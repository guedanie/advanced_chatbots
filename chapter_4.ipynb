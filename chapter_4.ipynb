{
 "cells": [
  {
   "cell_type": "markdown",
   "metadata": {},
   "source": [
    "# Chapter 4 - Building Chatbots the Hard Way\n",
    "\n",
    "We'll be using an open-source library called Rasa NLU for learning how to build chatbots from scratch without using any cloud services. Rasa NLU is a very sophisticated library and has lots of features in it. We are only going to touch upon the concepts and features that are important for us to build our chatbot. \n",
    "\n",
    "## What is Rasa NLU?\n",
    "\n",
    "Rasa NLU is an open-source NLP library for intent classification and entity extraction in chatbots. It helps you build and write custom NLP for chatbots.\n",
    "\n",
    "There are two parts of Rasa that we will be covering in this chapter:\n",
    "\n",
    "* **Rasa NLU**: With Rasa NLU we'll be learning to prepare our training data for our chatbot, wirting configuration files, choosing a pipeline and training hte model. Lastly, we will be predicting the intent of a text using our model. We'll also be learning how to parse entities using Rasa NLU. \n",
    "* **Rasa Core**: In the second part we'll be learning to train the **Rasa Core** dialog management model to prepare responses back to the user. This section becomes very important when you have a variety of intents in your chatbot and their follow-up questions or reponses. Instead of writing lots of conditions in our decision tree and spending hours debugging it in case of a big enterprise-level application, it's better to teach the model to create responses. \n",
    "\n",
    "## Why should I use Rasa NLU?\n",
    "\n",
    "Rasa NLU is not just any other library with a bunch of methods to do some things. It has the capability of building almost any kind of chatbot that you can imagine. Rasa brings you the magical capability of training the machine to understand the meaningof a text rather than you writing rules to understand it. \n",
    "\n",
    "What are some of the points on why we should use Rasa NLU: \n",
    "\n",
    "* Rasa NLU is an actively maintained project and has good community support\n",
    "* If we don't want to share our user's sensitive data with a third party, we musht use open source tools to build chatbots from scratch. This way all the data remains and gets processed on our servers. \n",
    "* Using Rasa NLU for building chatbots will give you full command over your chatbots. You can train, tune, and optimize it the way you want with the data you want. With Rasa NLU we can experiment which ML algorithm works best for our dataset rather than depending on a fixed algorithm. \n",
    "\n",
    "## Deciding a Pipeline in Rasa NLU\n",
    "\n",
    "Pipeline is nothing but a set of algorithms to be used to train your model. Rasa NLU has two widely used pipelines called `spacy_sklearn` and `tenserflow_embedding`. \n",
    "\n",
    "`spacy_sklearn`:\n",
    "\n",
    "* `spacy_sklearn` pipeline makes use of pre-trained word vectors from either GloVe algorithm or an algorithm developd by Facebook Ai team called fastText. \n",
    "\n",
    "* This pipeline is very useful with small sets of data. \n",
    "\n",
    "`tenserflow_embedding`:\n",
    "\n",
    "* `tensorflow_embedding` pipeline doesn't make use of any pre-trained word vectors, but it adjusts itself as per our own provided dataset. \n",
    "\n",
    "* The good thing about `tenserflow_embedding` pipeline is that our word bectors will be as per our domain. \n",
    "\n",
    "## Building a Horoscope Bot\n",
    "\n",
    "The scope for our bot:\n",
    "* The Horoscope Bot should be able to understand greetings and reply with a greeting. \n",
    "* Bot should be able to understand if the user is asking for a horoscope. \n",
    "* The bot should be able to ask the horoscope sign of the user if the user doesn't provide it. \n",
    "* If the user doesn't know hi/her horoscope sign, the bot should ask the user's date of birth and find it for them. \n",
    "* The bot should subscribe / unsubscribe the user to get the daily horoscope\n",
    "* The bot should learn from existing responses to formulate a new response\n",
    "* The bot should be able to handle spelling mistakes by the user. \n",
    "\n",
    "## Preparing Data for Chatbot\n",
    "\n",
    "Rasa NLU has multiple ways of defining the intents and their entities on our custom data. It supports data in markdown, JSON or as a directory containing multiple files. \n"
   ]
  }
 ],
 "metadata": {
  "kernelspec": {
   "display_name": "Python 3",
   "language": "python",
   "name": "python3"
  },
  "language_info": {
   "codemirror_mode": {
    "name": "ipython",
    "version": 3
   },
   "file_extension": ".py",
   "mimetype": "text/x-python",
   "name": "python",
   "nbconvert_exporter": "python",
   "pygments_lexer": "ipython3",
   "version": "3.7.4"
  }
 },
 "nbformat": 4,
 "nbformat_minor": 2
}
