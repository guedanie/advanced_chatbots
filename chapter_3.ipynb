{
 "cells": [
  {
   "cell_type": "markdown",
   "metadata": {},
   "source": [
    "# Building chatbots the easy way\n",
    "\n",
    "This chapter will help you build chatbots very quickly and make them public for the world to use\n",
    "\n",
    "We will try a tool caled Dialogflow\n",
    "\n",
    "## Intro to `Diagolflow`\n",
    "\n",
    "Dialogflow gives users a new methods to interact with thier product by building engaging voice- and text-based onversational itnerfaces, such as voice apps and chatbots. Dialogflow is powered by AI. \n",
    "\n",
    "The process:\n",
    "\n",
    "1. User talks to the input device\n",
    "1. User query goes into the Dialogflow engine\n",
    "1. Dialogflow tries to recognize the intent\n",
    "1. Based on the intent, a fulfillment is done and data is returned from databse\n",
    "1. Response is returned to the intent\n",
    "1. Response is converted into actionable data\n",
    "1. User's request for information is given back to the output device\n",
    "\n",
    "## Building a Food-Ordering Chatbot\n",
    "\n",
    "We are going to create a chatbot with the help of Dialogflow for a specific restaurant. Let's name it **OnlineEatsBot**. In short we can call it OnlineEats product. \n",
    "\n",
    "## Deciding the Scope\n",
    "\n",
    "Let's decide the scope of this chatbot - that is, what it can do and to what extent.\n",
    "\n",
    "* It should be able to greet the user dynamically\n",
    "* It should be able to understand the menu items and their quantity requests\n",
    "* Chatbot should be able to place an order on the user's behalf\n",
    "* Given the user the status of the order when asked \n",
    "\n",
    "## Listing Intents\n",
    "\n",
    "Here we list the intents we want our chatbot to train with so that it can understand those intents when asked by the user\n",
    "\n",
    "Intents:\n",
    "\n",
    "* Default welcome intent: when the user messages the chatbot\n",
    "* Place order intent: when the user asks the bot to order food\n",
    "* Item description intent: when the user tells what item and quantity they want \n",
    "* Order status: when the user wants to know this order status\n",
    "* Order_ID: the bot needs to understand the user's order ID for tracking\n",
    "* User thanks: when the user thanks the bot \n",
    "\n",
    "## Listing Entities\n",
    "\n",
    "We'll try to list all possible netities for all intents here. Later in the chapter we'll see them being defined for whichever intent they are applicable.\n",
    "\n",
    "Entities:\n",
    "* food_items: what food does the user want to order?\n",
    "* quantities: what is the quantity of the food item the user is willing to order?\n",
    "* order_id: order_id of hte place order for user "
   ]
  },
  {
   "cell_type": "markdown",
   "metadata": {},
   "source": [
    "Working on google dialogflow "
   ]
  },
  {
   "cell_type": "code",
   "execution_count": null,
   "metadata": {},
   "outputs": [],
   "source": []
  }
 ],
 "metadata": {
  "kernelspec": {
   "display_name": "Python 3",
   "language": "python",
   "name": "python3"
  },
  "language_info": {
   "codemirror_mode": {
    "name": "ipython",
    "version": 3
   },
   "file_extension": ".py",
   "mimetype": "text/x-python",
   "name": "python",
   "nbconvert_exporter": "python",
   "pygments_lexer": "ipython3",
   "version": "3.7.4"
  }
 },
 "nbformat": 4,
 "nbformat_minor": 2
}
